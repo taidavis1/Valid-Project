{
  "cells": [
    {
      "cell_type": "markdown",
      "metadata": {
        "id": "Z0aaUyOYo4HW"
      },
      "source": [
        "# Set Up and Install Tensorflow"
      ]
    },
    {
      "cell_type": "code",
      "execution_count": null,
      "metadata": {
        "id": "y74V-5AraTIv"
      },
      "outputs": [],
      "source": [
        "from google.colab import drive\n",
        "drive.mount('/content/drive')"
      ]
    },
    {
      "cell_type": "code",
      "execution_count": null,
      "metadata": {
        "id": "RDpr8RUwICk5"
      },
      "outputs": [],
      "source": [
        "!git clone https://github.com/tensorflow/models"
      ]
    },
    {
      "cell_type": "code",
      "execution_count": null,
      "metadata": {
        "id": "v1yPejAZv2yx"
      },
      "outputs": [],
      "source": [
        "!pip install -U --pre tensorflow==\"2.*\"\n",
        "!pip install tf_slim"
      ]
    },
    {
      "cell_type": "code",
      "execution_count": 4,
      "metadata": {
        "id": "Zp_V-PIyA3BB"
      },
      "outputs": [],
      "source": [
        "!rm -rf /usr/local/lib/python3.10/dist-packages/tf_slim/data/tfexample_decoder.py"
      ]
    },
    {
      "cell_type": "code",
      "execution_count": 5,
      "metadata": {
        "id": "zjllbl6nBAVg"
      },
      "outputs": [],
      "source": [
        "!cp /content/drive/MyDrive/Cse168Data/tfexample_decoder.py /usr/local/lib/python3.10/dist-packages/tf_slim/data/tfexample_decoder.py"
      ]
    },
    {
      "cell_type": "code",
      "execution_count": null,
      "metadata": {
        "id": "SuCg_jR7wgxC"
      },
      "outputs": [],
      "source": [
        "!pip install pycocotools"
      ]
    },
    {
      "cell_type": "code",
      "execution_count": null,
      "metadata": {
        "id": "jftg9wd5x2Fv"
      },
      "outputs": [],
      "source": [
        "%%bash\n",
        "cd models/research/\n",
        "protoc object_detection/protos/*.proto --python_out=.\n",
        "cp object_detection/packages/tf2/setup.py .\n",
        "python -m pip install ."
      ]
    },
    {
      "cell_type": "code",
      "execution_count": null,
      "metadata": {
        "id": "Q5y9FXMo8Azo"
      },
      "outputs": [],
      "source": [
        "!python /content/models/research/object_detection/builders/model_builder_tf2_test.py"
      ]
    },
    {
      "cell_type": "markdown",
      "metadata": {
        "id": "YF-P2iUn80Ob"
      },
      "source": [
        "#Prepare Datasets"
      ]
    },
    {
      "cell_type": "code",
      "execution_count": null,
      "metadata": {
        "id": "rgZZiHikyf76"
      },
      "outputs": [],
      "source": [
        "import tensorflow as tf\n",
        "device_name = tf.test.gpu_device_name()\n",
        "if device_name != '/device:GPU:0':\n",
        "  raise SystemError('GPU device not found')\n",
        "print('Found GPU at: {}'.format(device_name))"
      ]
    },
    {
      "cell_type": "code",
      "execution_count": null,
      "metadata": {
        "id": "hQNuJRc2LVoY"
      },
      "outputs": [],
      "source": [
        "!wget http://download.tensorflow.org/models/object_detection/tf2/20200711/faster_rcnn_resnet152_v1_800x1333_coco17_gpu-8.tar.gz\n",
        "# !wget http://download.tensorflow.org/models/object_detection/tf2/20200711/faster_rcnn_resnet50_v1_800x1333_coco17_gpu-8.tar.gz"
      ]
    },
    {
      "cell_type": "code",
      "execution_count": 11,
      "metadata": {
        "colab": {
          "base_uri": "https://localhost:8080/"
        },
        "id": "RKE8cAOfASyQ",
        "outputId": "fe6758dd-791b-4f3a-d4f8-e3d562e1fbdc"
      },
      "outputs": [
        {
          "name": "stdout",
          "output_type": "stream",
          "text": [
            "faster_rcnn_resnet152_v1_800x1333_coco17_gpu-8/\n",
            "faster_rcnn_resnet152_v1_800x1333_coco17_gpu-8/checkpoint/\n",
            "faster_rcnn_resnet152_v1_800x1333_coco17_gpu-8/checkpoint/ckpt-0.data-00000-of-00001\n",
            "faster_rcnn_resnet152_v1_800x1333_coco17_gpu-8/checkpoint/checkpoint\n",
            "faster_rcnn_resnet152_v1_800x1333_coco17_gpu-8/checkpoint/ckpt-0.index\n",
            "faster_rcnn_resnet152_v1_800x1333_coco17_gpu-8/pipeline.config\n",
            "faster_rcnn_resnet152_v1_800x1333_coco17_gpu-8/saved_model/\n",
            "faster_rcnn_resnet152_v1_800x1333_coco17_gpu-8/saved_model/saved_model.pb\n",
            "faster_rcnn_resnet152_v1_800x1333_coco17_gpu-8/saved_model/variables/\n",
            "faster_rcnn_resnet152_v1_800x1333_coco17_gpu-8/saved_model/variables/variables.data-00000-of-00001\n",
            "faster_rcnn_resnet152_v1_800x1333_coco17_gpu-8/saved_model/variables/variables.index\n"
          ]
        }
      ],
      "source": [
        "!tar -xzvf faster_rcnn_resnet152_v1_800x1333_coco17_gpu-8.tar.gz\n",
        "# /content/models/research/object_detection/dataset_tools/create_coco_tf_record.py"
      ]
    },
    {
      "cell_type": "code",
      "execution_count": null,
      "metadata": {
        "id": "EHMpgV4P-E0s"
      },
      "outputs": [],
      "source": [
        "!python /content/models/research/object_detection/dataset_tools/create_coco_tf_record.py \\\n",
        "      --logtostderr \\\n",
        "      --train_image_dir=/content/drive/MyDrive/Cse168Data/data/train  \\\n",
        "      --test_image_dir=/content/drive/MyDrive/Cse168Data/data/test \\\n",
        "      --val_image_dir=/content/drive/MyDrive/Cse168Data/data/validation \\\n",
        "      --train_annotations_file=/content/drive/MyDrive/Cse168Data/data/train/train.json \\\n",
        "      --test_annotations_file=/content/drive/MyDrive/Cse168Data/data/test/test.json \\\n",
        "      --val_annotations_file=/content/drive/MyDrive/Cse168Data/data/validation/validate.json \\\n",
        "      --testdev_annotations_file=/content/drive/MyDrive/Cse168Data/data/test/test.json \\\n",
        "      --output_dir=/content/annotations"
      ]
    },
    {
      "cell_type": "code",
      "execution_count": 13,
      "metadata": {
        "id": "BNTwDZRwFg8z"
      },
      "outputs": [],
      "source": [
        "min_dim = 600\n",
        "max_dim = 601\n",
        "finetune = '/content/faster_rcnn_resnet152_v1_800x1333_coco17_gpu-8/checkpoint/ckpt-0'\n",
        "num_steps = 100\n",
        "train_record = '/content/annotations/coco_train.record*'\n",
        "test_record = '/content/annotations/coco_test.record*'\n",
        "label_map = '/content/drive/MyDrive/Cse168Data/data/labelmap.pbtxt'\n",
        "batch_size = 2\n",
        "num_classes = 4"
      ]
    },
    {
      "cell_type": "code",
      "execution_count": 16,
      "metadata": {
        "id": "adiq_dYBFP4d"
      },
      "outputs": [],
      "source": [
        "import re\n",
        "\n",
        "with open('/content/faster_rcnn_resnet152_v1_800x1333_coco17_gpu-8/pipeline.config') as f:\n",
        "    s = f.read()\n",
        "\n",
        "with open('/content/faster_rcnn_resnet152_v1_800x1333_coco17_gpu-8/pipeline.config', 'w') as f:\n",
        "    # img_size\n",
        "    s = re.sub('min_dimension: [0-9]+', 'min_dimension: {}'.format(min_dim), s)\n",
        "    s = re.sub('max_dimension: [0-9]+', 'max_dimension: {}'.format(max_dim), s)\n",
        "    # fine_tune_checkpoint\n",
        "    s = re.sub('fine_tune_checkpoint: \".*?\"', 'fine_tune_checkpoint: \"{}\"'.format(finetune), s)\n",
        "    # tfrecord files train and test\n",
        "    s = re.sub('(input_path: \".*?)(PATH_TO_BE_CONFIGURED/train)(.*?\")', 'input_path: \"{}\"'.format(train_record), s)\n",
        "    s = re.sub('(input_path: \".*?)(PATH_TO_BE_CONFIGURED/val)(.*?\")', 'input_path: \"{}\"'.format(test_record), s)\n",
        "    # label_map_path\n",
        "    s = re.sub('label_map_path: \".*?\"', 'label_map_path: \"{}\"'.format(label_map), s)\n",
        "    # Set training batch_size.\n",
        "    s = re.sub('batch_size: [0-9]+','batch_size: {}'.format(batch_size), s)\n",
        "    # Set training steps, num_steps\n",
        "    s = re.sub('num_steps: [0-9]+', 'num_steps: {}'.format(num_steps), s)\n",
        "    # Set number of classes num_classes.\n",
        "    s = re.sub('num_classes: [0-9]+','num_classes: {}'.format(num_classes), s)\n",
        "    #fine-tune checkpoint type\n",
        "    s = re.sub('fine_tune_checkpoint_type: \"classification\"', 'fine_tune_checkpoint_type: \"{}\"'.format('detection'), s)\n",
        "\n",
        "    f.write(s)"
      ]
    },
    {
      "cell_type": "code",
      "execution_count": null,
      "metadata": {
        "id": "ccE2kIr9IDJ7"
      },
      "outputs": [],
      "source": [
        "!nvidia-smi"
      ]
    },
    {
      "cell_type": "code",
      "execution_count": null,
      "metadata": {
        "id": "6_b2JjPnFLtO"
      },
      "outputs": [],
      "source": [
        "device_name = tf.test.gpu_device_name()\n",
        "print(device_name)"
      ]
    },
    {
      "cell_type": "code",
      "execution_count": null,
      "metadata": {
        "id": "82dHjq_BF5gy"
      },
      "outputs": [],
      "source": [
        "!python -c \"import tensorflow as tf; print(tf.config.list_physical_devices('GPU'))\""
      ]
    },
    {
      "cell_type": "code",
      "execution_count": null,
      "metadata": {
        "id": "yIwvhI4OHbc_"
      },
      "outputs": [],
      "source": [
        "print(\"Num GPUs Available: \", len(tf.config.experimental.list_physical_devices('GPU')))"
      ]
    },
    {
      "cell_type": "code",
      "execution_count": null,
      "metadata": {
        "id": "XC-FNwnxdAsP"
      },
      "outputs": [],
      "source": [
        "!python /content/models/research/object_detection/model_main_tf2.py\\\n",
        "  --pipeline_config_path=/content/faster_rcnn_resnet152_v1_800x1333_coco17_gpu-8/pipeline.config \\\n",
        "  --num_train_steps=1000 \\\n",
        "  --model_dir=/content/training \\\n",
        "  --alsologtostderr"
      ]
    },
    {
      "cell_type": "code",
      "execution_count": null,
      "metadata": {
        "id": "_4RFuuS2BQJM"
      },
      "outputs": [],
      "source": [
        "!rm -rf /content/training"
      ]
    },
    {
      "cell_type": "markdown",
      "metadata": {
        "id": "r2pitwowcj4v"
      },
      "source": [
        "# Model Metrics\n",
        "\n"
      ]
    },
    {
      "cell_type": "code",
      "execution_count": null,
      "metadata": {
        "id": "GJihqYEqcqd9"
      },
      "outputs": [],
      "source": [
        "%load_ext tensorboard\n",
        "%tensorboard --logdir '/content/training/train'\n",
        "# %reload_ext tensorboard\n"
      ]
    },
    {
      "cell_type": "markdown",
      "metadata": {
        "id": "1tmJREVQR3cZ"
      },
      "source": [
        "# Test Model"
      ]
    },
    {
      "cell_type": "code",
      "execution_count": null,
      "metadata": {
        "id": "mMtKNBINUaq6"
      },
      "outputs": [],
      "source": [
        "!python '/content/models/research/object_detection/exporter_main_v2.py' \\\n",
        "    --trained_checkpoint_dir '/content/training/' \\\n",
        "    --output_directory '/content/drive/MyDrive/Cse168Data/model_saved' \\\n",
        "    --pipeline_config_path '/content/faster_rcnn_resnet152_v1_800x1333_coco17_gpu-8/pipeline.config'"
      ]
    },
    {
      "cell_type": "code",
      "execution_count": 28,
      "metadata": {
        "id": "s1cMdmVDc54x"
      },
      "outputs": [],
      "source": [
        "import matplotlib\n",
        "import matplotlib.pyplot as plt\n",
        "import os\n",
        "import random\n",
        "import io\n",
        "import imageio\n",
        "import glob\n",
        "import scipy.misc\n",
        "import numpy as np\n",
        "from six import BytesIO\n",
        "from PIL import Image, ImageDraw, ImageFont\n",
        "from IPython.display import display, Javascript\n",
        "from IPython.display import Image as IPyImage\n",
        "\n",
        "import tensorflow as tf\n",
        "from google.colab import files\n",
        "import pathlib\n",
        "import itertools\n",
        "import random\n",
        "\n",
        "import cv2\n",
        "\n",
        "from object_detection.utils import ops as utils_ops\n",
        "from object_detection.utils import label_map_util\n",
        "from object_detection.utils import visualization_utils as viz_utils\n",
        "\n",
        "from object_detection.utils import config_util\n",
        "from object_detection.utils import colab_utils\n",
        "from object_detection.builders import model_builder\n",
        "\n",
        "%matplotlib inline"
      ]
    },
    {
      "cell_type": "code",
      "execution_count": 29,
      "metadata": {
        "id": "yJx9Skpqcw-D"
      },
      "outputs": [],
      "source": [
        "def load_image_into_numpy_array(path):\n",
        "  img = cv2.imread(path)\n",
        "  return np.array(img)"
      ]
    },
    {
      "cell_type": "code",
      "execution_count": 30,
      "metadata": {
        "id": "G9FUyRYtdJbT"
      },
      "outputs": [],
      "source": [
        "def plot_detections(image_np,\n",
        "                    boxes,\n",
        "                    classes,\n",
        "                    scores,\n",
        "                    category_index,\n",
        "                    figsize=(12, 16),\n",
        "                    image_name=None):\n",
        "  image_np_with_annotations = image_np.copy()\n",
        "  viz_utils.visualize_boxes_and_labels_on_image_array(\n",
        "      image_np_with_annotations,\n",
        "      boxes,\n",
        "      classes,\n",
        "      scores,\n",
        "      category_index,\n",
        "      use_normalized_coordinates=True,\n",
        "      min_score_thresh=0.8)\n",
        "  if image_name:\n",
        "    plt.imsave(image_name, image_np_with_annotations)\n",
        "  else:\n",
        "    plt.imshow(image_np_with_annotations)"
      ]
    },
    {
      "cell_type": "code",
      "execution_count": null,
      "metadata": {
        "id": "NkQorofgdQpp"
      },
      "outputs": [],
      "source": [
        "filenames = list(pathlib.Path('/content/training/').glob('*.index'))\n",
        "\n",
        "filenames.sort()\n",
        "print(filenames)\n",
        "\n",
        "model_dir = '/content/training/'\n",
        "\n",
        "configs = config_util.get_configs_from_pipeline_file(\"/content/faster_rcnn_resnet152_v1_800x1333_coco17_gpu-8/pipeline.config\")\n",
        "model_config = configs['model']\n",
        "detection_model = model_builder.build(\n",
        "      model_config=model_config, is_training=False)\n",
        "\n",
        "ckpt = tf.compat.v2.train.Checkpoint(\n",
        "      model=detection_model)\n",
        "ckpt.restore(os.path.join(str(filenames[-1]).replace('.index','')))\n",
        "\n",
        "\n",
        "def get_model_detection_function(model):\n",
        "  \"\"\"Get a tf.function for detection.\"\"\"\n",
        "\n",
        "  @tf.function\n",
        "  def detect_fn(image):\n",
        "    \"\"\"Detect objects in image.\"\"\"\n",
        "\n",
        "    image, shapes = model.preprocess(image)\n",
        "    prediction_dict = model.predict(image, shapes)\n",
        "    detections = model.postprocess(prediction_dict, shapes)\n",
        "\n",
        "    return detections, prediction_dict, tf.reshape(shapes, [-1])\n",
        "\n",
        "  return detect_fn\n",
        "\n",
        "detect_fn = get_model_detection_function(detection_model)"
      ]
    },
    {
      "cell_type": "code",
      "execution_count": 32,
      "metadata": {
        "id": "luJzhg7udXy_"
      },
      "outputs": [],
      "source": [
        "label_map_path = configs['eval_input_config'].label_map_path\n",
        "label_map = label_map_util.load_labelmap(label_map_path)\n",
        "categories = label_map_util.convert_label_map_to_categories(\n",
        "    label_map,\n",
        "    max_num_classes=label_map_util.get_max_label_map_index(label_map),\n",
        "    use_display_name=True)\n",
        "category_index = label_map_util.create_category_index(categories)\n",
        "label_map_dict = label_map_util.get_label_map_dict(label_map, use_display_name=True)"
      ]
    },
    {
      "cell_type": "code",
      "execution_count": null,
      "metadata": {
        "colab": {
          "base_uri": "https://localhost:8080/",
          "height": 967
        },
        "id": "iTfUBpSodasb",
        "outputId": "3b072287-c9c9-4cbf-bec7-ec8b58bdc8b4"
      },
      "outputs": [],
      "source": [
        "TEST_IMAGE_PATHS = glob.glob('/content/drive/MyDrive/Cse168Data/data/test/*.jpg')\n",
        "image_path = random.choice(TEST_IMAGE_PATHS)\n",
        "image_np = load_image_into_numpy_array(image_path)\n",
        "\n",
        "input_tensor = tf.convert_to_tensor(\n",
        "    np.expand_dims(image_np, 0), dtype=tf.float32)\n",
        "detections, predictions_dict, shapes = detect_fn(input_tensor)\n",
        "\n",
        "label_id_offset = 1\n",
        "image_np_with_detections = image_np.copy()\n",
        "\n",
        "viz_utils.visualize_boxes_and_labels_on_image_array(\n",
        "      image_np_with_detections,\n",
        "      detections['detection_boxes'][0].numpy(),\n",
        "      (detections['detection_classes'][0].numpy() + label_id_offset).astype(int),\n",
        "      detections['detection_scores'][0].numpy(),\n",
        "      category_index,\n",
        "      use_normalized_coordinates=True,\n",
        "      max_boxes_to_draw=100,\n",
        "      line_thickness=1,\n",
        "      min_score_thresh=.5,\n",
        "      agnostic_mode=False,\n",
        ")\n",
        "\n",
        "plt.figure(figsize=(12,16))\n",
        "plt.imshow(image_np_with_detections)\n",
        "plt.axis(\"off\")\n",
        "plt.show()"
      ]
    },
    {
      "cell_type": "markdown",
      "metadata": {
        "id": "UN7-9k6Y-7uC"
      },
      "source": [
        "# Save Work"
      ]
    },
    {
      "cell_type": "code",
      "execution_count": null,
      "metadata": {
        "id": "hmQB94YrPvaR"
      },
      "outputs": [],
      "source": [
        "!cp -r /content/annotations/ /content/drive/MyDrive/Cse168Data/data/"
      ]
    },
    {
      "cell_type": "code",
      "execution_count": null,
      "metadata": {
        "id": "SlOLwN1f-wrs"
      },
      "outputs": [],
      "source": [
        "!cp /usr/local/lib/python3.10/dist-packages/tf_slim/data/tfexample_decoder.py /content/drive/MyDrive/Cse168Data/"
      ]
    },
    {
      "cell_type": "code",
      "execution_count": null,
      "metadata": {
        "id": "tuVAK1h9AQEA"
      },
      "outputs": [],
      "source": [
        "# import re\n",
        "# with open(r'/content/models/research/object_detection/packages/tf2/setup.py', 'r') as file :\n",
        "#   s = file.read()\n",
        "\n",
        "# with open('/content/models/research/setup.py', 'w') as file:\n",
        "#   s = re.sub('\\'tf-models-official >= 2.5.1',\n",
        "#              'tf-models-official >= 2.8.0', s)\n",
        "#   file.write(s)"
      ]
    }
  ],
  "metadata": {
    "accelerator": "GPU",
    "colab": {
      "collapsed_sections": [
        "Z0aaUyOYo4HW",
        "YF-P2iUn80Ob",
        "r2pitwowcj4v",
        "1tmJREVQR3cZ",
        "UN7-9k6Y-7uC"
      ],
      "gpuType": "T4",
      "machine_shape": "hm",
      "provenance": []
    },
    "kernelspec": {
      "display_name": "Python 3",
      "name": "python3"
    },
    "language_info": {
      "name": "python"
    }
  },
  "nbformat": 4,
  "nbformat_minor": 0
}
